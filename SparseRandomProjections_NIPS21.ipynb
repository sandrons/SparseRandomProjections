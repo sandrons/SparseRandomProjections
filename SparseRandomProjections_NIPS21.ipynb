{
  "nbformat": 4,
  "nbformat_minor": 0,
  "metadata": {
    "colab": {
      "provenance": [],
      "toc_visible": true
    },
    "kernelspec": {
      "name": "python3",
      "display_name": "Python 3"
    }
  },
  "cells": [
    {
      "cell_type": "markdown",
      "metadata": {
        "id": "Y7KyNOeipePx"
      },
      "source": [
        "# Datasets"
      ]
    },
    {
      "cell_type": "code",
      "metadata": {
        "id": "RAWwBPUjpTYm"
      },
      "source": [
        "import numpy as np\n",
        "import itertools\n",
        "import seaborn as sns\n",
        "import pandas as pd\n",
        "import random\n",
        "\n",
        "np.random.seed(1234)"
      ],
      "execution_count": null,
      "outputs": []
    },
    {
      "cell_type": "code",
      "metadata": {
        "id": "JId70ydmpgqB"
      },
      "source": [
        "def distribution_dispersion(Xs):\n",
        "  outs = []\n",
        "  for (X1,X2) in itertools.combinations(Xs,2):\n",
        "    X = X1-X2\n",
        "    X = X.ravel()\n",
        "    X = X/np.linalg.norm(X,2)\n",
        "    outs.append(abs(X).max())\n",
        "  return outs\n",
        "\n",
        "def plot_dispersion(Xs,ax=None,label=None):\n",
        "  outs = distribution_dispersion(Xs)\n",
        "  sns.kdeplot(outs, bw=0.25, ax = ax, label=label)\n",
        "\n",
        "datasets = {}"
      ],
      "execution_count": null,
      "outputs": []
    },
    {
      "cell_type": "markdown",
      "metadata": {
        "id": "LPQoOBxppo6K"
      },
      "source": [
        "## CIFAR10"
      ]
    },
    {
      "cell_type": "code",
      "metadata": {
        "id": "FIndANu9pilF"
      },
      "source": [
        "from tensorflow.keras.datasets import cifar10\n",
        "\n",
        "n_samples = 250\n",
        "Xs = []\n",
        "(train_data,_),_ = cifar10.load_data()\n",
        "#subsample = np.random.random_integers(0,len(train_data),n_samples)\n",
        "#cifar10 = train_data[subsample][:,:,:,0]\n",
        "for i in range(n_samples):\n",
        "  Xs.append(train_data[random.randint(0,len(train_data))])\n",
        "Xs = [x[:,:,0] for x in Xs]\n",
        "datasets['CIFAR10'] = Xs\n",
        "#average_param_gain(Xs)"
      ],
      "execution_count": null,
      "outputs": []
    },
    {
      "cell_type": "code",
      "metadata": {
        "colab": {
          "base_uri": "https://localhost:8080/"
        },
        "id": "GUbmZJoTfyNA",
        "outputId": "3951c098-1bf5-409e-eeb9-abf60ae500a4"
      },
      "source": [
        "train_data.shape"
      ],
      "execution_count": null,
      "outputs": [
        {
          "output_type": "execute_result",
          "data": {
            "text/plain": [
              "(50000, 32, 32, 3)"
            ]
          },
          "metadata": {
            "tags": []
          },
          "execution_count": 4
        }
      ]
    },
    {
      "cell_type": "code",
      "metadata": {
        "id": "19igqA1GBeF9"
      },
      "source": [
        " from sklearn.cluster import KMeans\n",
        "\n",
        "model = KMeans(n_clusters=10)\n",
        "model.fit(datasets['CIFAR10'])\n",
        "print(model.inertia_)"
      ],
      "execution_count": null,
      "outputs": []
    },
    {
      "cell_type": "code",
      "metadata": {
        "id": "A2JY2jxQ8SbJ"
      },
      "source": [
        "datasets = pd.DataFrame(datasets)"
      ],
      "execution_count": null,
      "outputs": []
    },
    {
      "cell_type": "code",
      "metadata": {
        "colab": {
          "base_uri": "https://localhost:8080/",
          "height": 406
        },
        "id": "D6uwvmtj8Z6U",
        "outputId": "7f2d1884-d595-42e4-bd88-2e37f2ae75bd"
      },
      "source": [
        "datasets"
      ],
      "execution_count": null,
      "outputs": [
        {
          "output_type": "execute_result",
          "data": {
            "text/html": [
              "<div>\n",
              "<style scoped>\n",
              "    .dataframe tbody tr th:only-of-type {\n",
              "        vertical-align: middle;\n",
              "    }\n",
              "\n",
              "    .dataframe tbody tr th {\n",
              "        vertical-align: top;\n",
              "    }\n",
              "\n",
              "    .dataframe thead th {\n",
              "        text-align: right;\n",
              "    }\n",
              "</style>\n",
              "<table border=\"1\" class=\"dataframe\">\n",
              "  <thead>\n",
              "    <tr style=\"text-align: right;\">\n",
              "      <th></th>\n",
              "      <th>CIFAR10</th>\n",
              "    </tr>\n",
              "  </thead>\n",
              "  <tbody>\n",
              "    <tr>\n",
              "      <th>0</th>\n",
              "      <td>[[160, 160, 167, 169, 171, 176, 184, 186, 185,...</td>\n",
              "    </tr>\n",
              "    <tr>\n",
              "      <th>1</th>\n",
              "      <td>[[76, 59, 109, 143, 132, 150, 126, 67, 98, 157...</td>\n",
              "    </tr>\n",
              "    <tr>\n",
              "      <th>2</th>\n",
              "      <td>[[191, 184, 188, 202, 219, 220, 215, 214, 221,...</td>\n",
              "    </tr>\n",
              "    <tr>\n",
              "      <th>3</th>\n",
              "      <td>[[253, 250, 250, 249, 250, 250, 219, 131, 137,...</td>\n",
              "    </tr>\n",
              "    <tr>\n",
              "      <th>4</th>\n",
              "      <td>[[190, 192, 197, 196, 194, 195, 195, 196, 197,...</td>\n",
              "    </tr>\n",
              "    <tr>\n",
              "      <th>...</th>\n",
              "      <td>...</td>\n",
              "    </tr>\n",
              "    <tr>\n",
              "      <th>245</th>\n",
              "      <td>[[40, 41, 31, 38, 65, 97, 122, 88, 60, 76, 83,...</td>\n",
              "    </tr>\n",
              "    <tr>\n",
              "      <th>246</th>\n",
              "      <td>[[124, 138, 131, 117, 138, 167, 143, 116, 91, ...</td>\n",
              "    </tr>\n",
              "    <tr>\n",
              "      <th>247</th>\n",
              "      <td>[[171, 230, 241, 248, 251, 250, 250, 245, 233,...</td>\n",
              "    </tr>\n",
              "    <tr>\n",
              "      <th>248</th>\n",
              "      <td>[[67, 63, 56, 37, 38, 62, 62, 60, 62, 63, 73, ...</td>\n",
              "    </tr>\n",
              "    <tr>\n",
              "      <th>249</th>\n",
              "      <td>[[193, 172, 165, 136, 68, 108, 231, 250, 240, ...</td>\n",
              "    </tr>\n",
              "  </tbody>\n",
              "</table>\n",
              "<p>250 rows × 1 columns</p>\n",
              "</div>"
            ],
            "text/plain": [
              "                                               CIFAR10\n",
              "0    [[160, 160, 167, 169, 171, 176, 184, 186, 185,...\n",
              "1    [[76, 59, 109, 143, 132, 150, 126, 67, 98, 157...\n",
              "2    [[191, 184, 188, 202, 219, 220, 215, 214, 221,...\n",
              "3    [[253, 250, 250, 249, 250, 250, 219, 131, 137,...\n",
              "4    [[190, 192, 197, 196, 194, 195, 195, 196, 197,...\n",
              "..                                                 ...\n",
              "245  [[40, 41, 31, 38, 65, 97, 122, 88, 60, 76, 83,...\n",
              "246  [[124, 138, 131, 117, 138, 167, 143, 116, 91, ...\n",
              "247  [[171, 230, 241, 248, 251, 250, 250, 245, 233,...\n",
              "248  [[67, 63, 56, 37, 38, 62, 62, 60, 62, 63, 73, ...\n",
              "249  [[193, 172, 165, 136, 68, 108, 231, 250, 240, ...\n",
              "\n",
              "[250 rows x 1 columns]"
            ]
          },
          "metadata": {
            "tags": []
          },
          "execution_count": 13
        }
      ]
    },
    {
      "cell_type": "markdown",
      "metadata": {
        "id": "SA3ZvHmap54R"
      },
      "source": [
        "## CIFAR 100"
      ]
    },
    {
      "cell_type": "code",
      "metadata": {
        "colab": {
          "base_uri": "https://localhost:8080/"
        },
        "id": "_OPkkybep8_F",
        "outputId": "458943bc-922d-4cdb-f930-c7e304930374"
      },
      "source": [
        "from tensorflow.keras.datasets import cifar100\n",
        "\n",
        "n_samples = 250\n",
        "Xs = []\n",
        "\n",
        "(train_data,_),_ = cifar100.load_data()\n",
        "subsample = np.random.random_integers(0,len(train_data),n_samples)\n",
        "for i in range(n_samples):\n",
        "  Xs.append(train_data[random.randint(0,len(train_data))])\n",
        "Xs = [x[:,:,0] for x in Xs]\n",
        "#datasets = {'CIFAR100': Xs}\n",
        "datasets['CIFAR100'] = Xs"
      ],
      "execution_count": null,
      "outputs": [
        {
          "output_type": "stream",
          "text": [
            "/usr/local/lib/python3.7/dist-packages/ipykernel_launcher.py:7: DeprecationWarning: This function is deprecated. Please call randint(0, 50000 + 1) instead\n",
            "  import sys\n"
          ],
          "name": "stderr"
        }
      ]
    },
    {
      "cell_type": "code",
      "metadata": {
        "colab": {
          "base_uri": "https://localhost:8080/",
          "height": 406
        },
        "id": "PtTwE2EJ9J3v",
        "outputId": "f9d55ba8-8d57-4f50-ad87-bc02c61392f7"
      },
      "source": [
        "datasets"
      ],
      "execution_count": null,
      "outputs": [
        {
          "output_type": "execute_result",
          "data": {
            "text/html": [
              "<div>\n",
              "<style scoped>\n",
              "    .dataframe tbody tr th:only-of-type {\n",
              "        vertical-align: middle;\n",
              "    }\n",
              "\n",
              "    .dataframe tbody tr th {\n",
              "        vertical-align: top;\n",
              "    }\n",
              "\n",
              "    .dataframe thead th {\n",
              "        text-align: right;\n",
              "    }\n",
              "</style>\n",
              "<table border=\"1\" class=\"dataframe\">\n",
              "  <thead>\n",
              "    <tr style=\"text-align: right;\">\n",
              "      <th></th>\n",
              "      <th>CIFAR10</th>\n",
              "      <th>CIFAR100</th>\n",
              "    </tr>\n",
              "  </thead>\n",
              "  <tbody>\n",
              "    <tr>\n",
              "      <th>0</th>\n",
              "      <td>[[136, 137, 137, 137, 138, 139, 140, 139, 139,...</td>\n",
              "      <td>[[54, 56, 60, 65, 73, 92, 126, 147, 172, 201, ...</td>\n",
              "    </tr>\n",
              "    <tr>\n",
              "      <th>1</th>\n",
              "      <td>[[106, 139, 142, 135, 146, 154, 161, 146, 135,...</td>\n",
              "      <td>[[183, 176, 175, 178, 182, 186, 187, 185, 180,...</td>\n",
              "    </tr>\n",
              "    <tr>\n",
              "      <th>2</th>\n",
              "      <td>[[114, 120, 108, 100, 106, 126, 128, 123, 119,...</td>\n",
              "      <td>[[157, 168, 180, 198, 204, 207, 204, 201, 200,...</td>\n",
              "    </tr>\n",
              "    <tr>\n",
              "      <th>3</th>\n",
              "      <td>[[231, 153, 148, 160, 166, 171, 174, 180, 186,...</td>\n",
              "      <td>[[180, 199, 206, 199, 188, 183, 170, 163, 170,...</td>\n",
              "    </tr>\n",
              "    <tr>\n",
              "      <th>4</th>\n",
              "      <td>[[182, 181, 173, 170, 166, 160, 157, 152, 146,...</td>\n",
              "      <td>[[227, 224, 225, 225, 226, 226, 226, 225, 225,...</td>\n",
              "    </tr>\n",
              "    <tr>\n",
              "      <th>...</th>\n",
              "      <td>...</td>\n",
              "      <td>...</td>\n",
              "    </tr>\n",
              "    <tr>\n",
              "      <th>245</th>\n",
              "      <td>[[128, 126, 126, 126, 127, 127, 127, 124, 127,...</td>\n",
              "      <td>[[61, 100, 73, 99, 120, 120, 114, 115, 117, 12...</td>\n",
              "    </tr>\n",
              "    <tr>\n",
              "      <th>246</th>\n",
              "      <td>[[102, 143, 138, 63, 39, 65, 51, 40, 49, 51, 5...</td>\n",
              "      <td>[[255, 255, 255, 255, 255, 254, 254, 255, 255,...</td>\n",
              "    </tr>\n",
              "    <tr>\n",
              "      <th>247</th>\n",
              "      <td>[[121, 122, 124, 126, 126, 126, 125, 123, 121,...</td>\n",
              "      <td>[[255, 253, 253, 253, 253, 253, 253, 252, 251,...</td>\n",
              "    </tr>\n",
              "    <tr>\n",
              "      <th>248</th>\n",
              "      <td>[[33, 28, 33, 34, 30, 29, 26, 28, 24, 26, 40, ...</td>\n",
              "      <td>[[65, 61, 62, 61, 61, 63, 60, 59, 56, 52, 49, ...</td>\n",
              "    </tr>\n",
              "    <tr>\n",
              "      <th>249</th>\n",
              "      <td>[[151, 162, 170, 175, 179, 177, 174, 171, 176,...</td>\n",
              "      <td>[[24, 24, 20, 21, 22, 23, 23, 24, 25, 26, 34, ...</td>\n",
              "    </tr>\n",
              "  </tbody>\n",
              "</table>\n",
              "<p>250 rows × 2 columns</p>\n",
              "</div>"
            ],
            "text/plain": [
              "                                               CIFAR10                                           CIFAR100\n",
              "0    [[136, 137, 137, 137, 138, 139, 140, 139, 139,...  [[54, 56, 60, 65, 73, 92, 126, 147, 172, 201, ...\n",
              "1    [[106, 139, 142, 135, 146, 154, 161, 146, 135,...  [[183, 176, 175, 178, 182, 186, 187, 185, 180,...\n",
              "2    [[114, 120, 108, 100, 106, 126, 128, 123, 119,...  [[157, 168, 180, 198, 204, 207, 204, 201, 200,...\n",
              "3    [[231, 153, 148, 160, 166, 171, 174, 180, 186,...  [[180, 199, 206, 199, 188, 183, 170, 163, 170,...\n",
              "4    [[182, 181, 173, 170, 166, 160, 157, 152, 146,...  [[227, 224, 225, 225, 226, 226, 226, 225, 225,...\n",
              "..                                                 ...                                                ...\n",
              "245  [[128, 126, 126, 126, 127, 127, 127, 124, 127,...  [[61, 100, 73, 99, 120, 120, 114, 115, 117, 12...\n",
              "246  [[102, 143, 138, 63, 39, 65, 51, 40, 49, 51, 5...  [[255, 255, 255, 255, 255, 254, 254, 255, 255,...\n",
              "247  [[121, 122, 124, 126, 126, 126, 125, 123, 121,...  [[255, 253, 253, 253, 253, 253, 253, 252, 251,...\n",
              "248  [[33, 28, 33, 34, 30, 29, 26, 28, 24, 26, 40, ...  [[65, 61, 62, 61, 61, 63, 60, 59, 56, 52, 49, ...\n",
              "249  [[151, 162, 170, 175, 179, 177, 174, 171, 176,...  [[24, 24, 20, 21, 22, 23, 23, 24, 25, 26, 34, ...\n",
              "\n",
              "[250 rows x 2 columns]"
            ]
          },
          "metadata": {
            "tags": []
          },
          "execution_count": 7
        }
      ]
    },
    {
      "cell_type": "markdown",
      "metadata": {
        "id": "yNg8dklhqGpK"
      },
      "source": [
        "## Street View House Numbers"
      ]
    },
    {
      "cell_type": "code",
      "metadata": {
        "colab": {
          "base_uri": "https://localhost:8080/"
        },
        "id": "2ophVinyqK7C",
        "outputId": "3593433c-e7e1-432e-990a-5d431c43a2a7"
      },
      "source": [
        "!wget http://ufldl.stanford.edu/housenumbers/train.tar.gz\n",
        "!mkdir housenumbers\n",
        "!tar -xf train.tar.gz -C housenumbers\n",
        "\n",
        "import imageio\n",
        "import os\n",
        "\n",
        "n_samples = 250\n",
        "Xs = []\n",
        "files = os.listdir('housenumbers/train')\n",
        "subsample = np.random.random_integers(0,len(files),n_samples)\n",
        "for i in range(n_samples):\n",
        "  Xs.append(imageio.imread('housenumbers/train/'+files[i]))\n",
        "\n",
        "# only one channel\n",
        "Xs = [x[:,:,0] for x in Xs]\n",
        "\n",
        "# need to pad them\n",
        "shape_fit = np.array([x.shape for x in Xs]).max(0)\n",
        "\n",
        "def pad(X,shape):\n",
        "  out = np.zeros(shape)\n",
        "  out[:X.shape[0],:X.shape[1]] = X\n",
        "  return out\n",
        "\n",
        "Xs = [pad(x,shape_fit) for x in Xs]\n",
        "\n",
        "datasets['SVHN'] = Xs"
      ],
      "execution_count": null,
      "outputs": [
        {
          "output_type": "stream",
          "text": [
            "--2021-05-18 15:00:53--  http://ufldl.stanford.edu/housenumbers/train.tar.gz\n",
            "Resolving ufldl.stanford.edu (ufldl.stanford.edu)... 171.64.68.10\n",
            "Connecting to ufldl.stanford.edu (ufldl.stanford.edu)|171.64.68.10|:80... connected.\n",
            "HTTP request sent, awaiting response... 200 OK\n",
            "Length: 404141560 (385M) [application/x-gzip]\n",
            "Saving to: ‘train.tar.gz.1’\n",
            "\n",
            "train.tar.gz.1      100%[===================>] 385.42M  13.4MB/s    in 25s     \n",
            "\n",
            "2021-05-18 15:01:18 (15.4 MB/s) - ‘train.tar.gz.1’ saved [404141560/404141560]\n",
            "\n",
            "mkdir: cannot create directory ‘housenumbers’: File exists\n"
          ],
          "name": "stdout"
        },
        {
          "output_type": "stream",
          "text": [
            "/usr/local/lib/python3.7/dist-packages/ipykernel_launcher.py:11: DeprecationWarning: This function is deprecated. Please call randint(0, 33404 + 1) instead\n",
            "  # This is added back by InteractiveShellApp.init_path()\n"
          ],
          "name": "stderr"
        }
      ]
    },
    {
      "cell_type": "code",
      "metadata": {
        "colab": {
          "base_uri": "https://localhost:8080/",
          "height": 406
        },
        "id": "9JuLCCvP9-rL",
        "outputId": "0c0a72d3-59a8-480a-d56a-f9ddfc2036f5"
      },
      "source": [
        "datasets"
      ],
      "execution_count": null,
      "outputs": [
        {
          "output_type": "execute_result",
          "data": {
            "text/html": [
              "<div>\n",
              "<style scoped>\n",
              "    .dataframe tbody tr th:only-of-type {\n",
              "        vertical-align: middle;\n",
              "    }\n",
              "\n",
              "    .dataframe tbody tr th {\n",
              "        vertical-align: top;\n",
              "    }\n",
              "\n",
              "    .dataframe thead th {\n",
              "        text-align: right;\n",
              "    }\n",
              "</style>\n",
              "<table border=\"1\" class=\"dataframe\">\n",
              "  <thead>\n",
              "    <tr style=\"text-align: right;\">\n",
              "      <th></th>\n",
              "      <th>CIFAR10</th>\n",
              "      <th>CIFAR100</th>\n",
              "      <th>SVHN</th>\n",
              "    </tr>\n",
              "  </thead>\n",
              "  <tbody>\n",
              "    <tr>\n",
              "      <th>0</th>\n",
              "      <td>[[136, 137, 137, 137, 138, 139, 140, 139, 139,...</td>\n",
              "      <td>[[54, 56, 60, 65, 73, 92, 126, 147, 172, 201, ...</td>\n",
              "      <td>[[153.0, 151.0, 145.0, 143.0, 145.0, 147.0, 14...</td>\n",
              "    </tr>\n",
              "    <tr>\n",
              "      <th>1</th>\n",
              "      <td>[[106, 139, 142, 135, 146, 154, 161, 146, 135,...</td>\n",
              "      <td>[[183, 176, 175, 178, 182, 186, 187, 185, 180,...</td>\n",
              "      <td>[[220.0, 220.0, 220.0, 220.0, 220.0, 220.0, 22...</td>\n",
              "    </tr>\n",
              "    <tr>\n",
              "      <th>2</th>\n",
              "      <td>[[114, 120, 108, 100, 106, 126, 128, 123, 119,...</td>\n",
              "      <td>[[157, 168, 180, 198, 204, 207, 204, 201, 200,...</td>\n",
              "      <td>[[129.0, 129.0, 129.0, 129.0, 129.0, 129.0, 12...</td>\n",
              "    </tr>\n",
              "    <tr>\n",
              "      <th>3</th>\n",
              "      <td>[[231, 153, 148, 160, 166, 171, 174, 180, 186,...</td>\n",
              "      <td>[[180, 199, 206, 199, 188, 183, 170, 163, 170,...</td>\n",
              "      <td>[[159.0, 159.0, 161.0, 164.0, 163.0, 163.0, 16...</td>\n",
              "    </tr>\n",
              "    <tr>\n",
              "      <th>4</th>\n",
              "      <td>[[182, 181, 173, 170, 166, 160, 157, 152, 146,...</td>\n",
              "      <td>[[227, 224, 225, 225, 226, 226, 226, 225, 225,...</td>\n",
              "      <td>[[239.0, 240.0, 240.0, 239.0, 239.0, 240.0, 24...</td>\n",
              "    </tr>\n",
              "    <tr>\n",
              "      <th>...</th>\n",
              "      <td>...</td>\n",
              "      <td>...</td>\n",
              "      <td>...</td>\n",
              "    </tr>\n",
              "    <tr>\n",
              "      <th>245</th>\n",
              "      <td>[[128, 126, 126, 126, 127, 127, 127, 124, 127,...</td>\n",
              "      <td>[[61, 100, 73, 99, 120, 120, 114, 115, 117, 12...</td>\n",
              "      <td>[[179.0, 179.0, 179.0, 178.0, 179.0, 178.0, 17...</td>\n",
              "    </tr>\n",
              "    <tr>\n",
              "      <th>246</th>\n",
              "      <td>[[102, 143, 138, 63, 39, 65, 51, 40, 49, 51, 5...</td>\n",
              "      <td>[[255, 255, 255, 255, 255, 254, 254, 255, 255,...</td>\n",
              "      <td>[[85.0, 85.0, 86.0, 89.0, 88.0, 90.0, 97.0, 99...</td>\n",
              "    </tr>\n",
              "    <tr>\n",
              "      <th>247</th>\n",
              "      <td>[[121, 122, 124, 126, 126, 126, 125, 123, 121,...</td>\n",
              "      <td>[[255, 253, 253, 253, 253, 253, 253, 252, 251,...</td>\n",
              "      <td>[[45.0, 44.0, 45.0, 49.0, 53.0, 57.0, 60.0, 59...</td>\n",
              "    </tr>\n",
              "    <tr>\n",
              "      <th>248</th>\n",
              "      <td>[[33, 28, 33, 34, 30, 29, 26, 28, 24, 26, 40, ...</td>\n",
              "      <td>[[65, 61, 62, 61, 61, 63, 60, 59, 56, 52, 49, ...</td>\n",
              "      <td>[[189.0, 188.0, 192.0, 200.0, 205.0, 201.0, 20...</td>\n",
              "    </tr>\n",
              "    <tr>\n",
              "      <th>249</th>\n",
              "      <td>[[151, 162, 170, 175, 179, 177, 174, 171, 176,...</td>\n",
              "      <td>[[24, 24, 20, 21, 22, 23, 23, 24, 25, 26, 34, ...</td>\n",
              "      <td>[[161.0, 157.0, 148.0, 151.0, 163.0, 165.0, 17...</td>\n",
              "    </tr>\n",
              "  </tbody>\n",
              "</table>\n",
              "<p>250 rows × 3 columns</p>\n",
              "</div>"
            ],
            "text/plain": [
              "                                               CIFAR10  ...                                               SVHN\n",
              "0    [[136, 137, 137, 137, 138, 139, 140, 139, 139,...  ...  [[153.0, 151.0, 145.0, 143.0, 145.0, 147.0, 14...\n",
              "1    [[106, 139, 142, 135, 146, 154, 161, 146, 135,...  ...  [[220.0, 220.0, 220.0, 220.0, 220.0, 220.0, 22...\n",
              "2    [[114, 120, 108, 100, 106, 126, 128, 123, 119,...  ...  [[129.0, 129.0, 129.0, 129.0, 129.0, 129.0, 12...\n",
              "3    [[231, 153, 148, 160, 166, 171, 174, 180, 186,...  ...  [[159.0, 159.0, 161.0, 164.0, 163.0, 163.0, 16...\n",
              "4    [[182, 181, 173, 170, 166, 160, 157, 152, 146,...  ...  [[239.0, 240.0, 240.0, 239.0, 239.0, 240.0, 24...\n",
              "..                                                 ...  ...                                                ...\n",
              "245  [[128, 126, 126, 126, 127, 127, 127, 124, 127,...  ...  [[179.0, 179.0, 179.0, 178.0, 179.0, 178.0, 17...\n",
              "246  [[102, 143, 138, 63, 39, 65, 51, 40, 49, 51, 5...  ...  [[85.0, 85.0, 86.0, 89.0, 88.0, 90.0, 97.0, 99...\n",
              "247  [[121, 122, 124, 126, 126, 126, 125, 123, 121,...  ...  [[45.0, 44.0, 45.0, 49.0, 53.0, 57.0, 60.0, 59...\n",
              "248  [[33, 28, 33, 34, 30, 29, 26, 28, 24, 26, 40, ...  ...  [[189.0, 188.0, 192.0, 200.0, 205.0, 201.0, 20...\n",
              "249  [[151, 162, 170, 175, 179, 177, 174, 171, 176,...  ...  [[161.0, 157.0, 148.0, 151.0, 163.0, 165.0, 17...\n",
              "\n",
              "[250 rows x 3 columns]"
            ]
          },
          "metadata": {
            "tags": []
          },
          "execution_count": 9
        }
      ]
    },
    {
      "cell_type": "code",
      "metadata": {
        "colab": {
          "base_uri": "https://localhost:8080/",
          "height": 460
        },
        "id": "FC27Cm1s-km_",
        "outputId": "f819f49b-ab08-4a32-8dd5-34a2786a2bf3"
      },
      "source": [
        " from sklearn.cluster import KMeans\n",
        "\n",
        " model = KMeans(n_clusters=10)\n",
        " model.fit(datasets['CIFAR10'])\n",
        " print(model.inertia_)"
      ],
      "execution_count": null,
      "outputs": [
        {
          "output_type": "error",
          "ename": "ValueError",
          "evalue": "ignored",
          "traceback": [
            "\u001b[0;31m---------------------------------------------------------------------------\u001b[0m",
            "\u001b[0;31mTypeError\u001b[0m                                 Traceback (most recent call last)",
            "\u001b[0;31mTypeError\u001b[0m: only size-1 arrays can be converted to Python scalars",
            "\nThe above exception was the direct cause of the following exception:\n",
            "\u001b[0;31mValueError\u001b[0m                                Traceback (most recent call last)",
            "\u001b[0;32m<ipython-input-14-220bab42f2ce>\u001b[0m in \u001b[0;36m<module>\u001b[0;34m()\u001b[0m\n\u001b[1;32m      2\u001b[0m \u001b[0;34m\u001b[0m\u001b[0m\n\u001b[1;32m      3\u001b[0m \u001b[0mmodel\u001b[0m \u001b[0;34m=\u001b[0m \u001b[0mKMeans\u001b[0m\u001b[0;34m(\u001b[0m\u001b[0mn_clusters\u001b[0m\u001b[0;34m=\u001b[0m\u001b[0;36m10\u001b[0m\u001b[0;34m)\u001b[0m\u001b[0;34m\u001b[0m\u001b[0;34m\u001b[0m\u001b[0m\n\u001b[0;32m----> 4\u001b[0;31m \u001b[0mmodel\u001b[0m\u001b[0;34m.\u001b[0m\u001b[0mfit\u001b[0m\u001b[0;34m(\u001b[0m\u001b[0mdatasets\u001b[0m\u001b[0;34m[\u001b[0m\u001b[0;34m'CIFAR10'\u001b[0m\u001b[0;34m]\u001b[0m\u001b[0;34m)\u001b[0m\u001b[0;34m\u001b[0m\u001b[0;34m\u001b[0m\u001b[0m\n\u001b[0m\u001b[1;32m      5\u001b[0m \u001b[0mprint\u001b[0m\u001b[0;34m(\u001b[0m\u001b[0mmodel\u001b[0m\u001b[0;34m.\u001b[0m\u001b[0minertia_\u001b[0m\u001b[0;34m)\u001b[0m\u001b[0;34m\u001b[0m\u001b[0;34m\u001b[0m\u001b[0m\n",
            "\u001b[0;32m/usr/local/lib/python3.7/dist-packages/sklearn/cluster/_kmeans.py\u001b[0m in \u001b[0;36mfit\u001b[0;34m(self, X, y, sample_weight)\u001b[0m\n\u001b[1;32m    857\u001b[0m         \u001b[0morder\u001b[0m \u001b[0;34m=\u001b[0m \u001b[0;34m\"C\"\u001b[0m \u001b[0;32mif\u001b[0m \u001b[0mself\u001b[0m\u001b[0;34m.\u001b[0m\u001b[0mcopy_x\u001b[0m \u001b[0;32melse\u001b[0m \u001b[0;32mNone\u001b[0m\u001b[0;34m\u001b[0m\u001b[0;34m\u001b[0m\u001b[0m\n\u001b[1;32m    858\u001b[0m         X = check_array(X, accept_sparse='csr', dtype=[np.float64, np.float32],\n\u001b[0;32m--> 859\u001b[0;31m                         order=order, copy=self.copy_x)\n\u001b[0m\u001b[1;32m    860\u001b[0m         \u001b[0;31m# verify that the number of samples given is larger than k\u001b[0m\u001b[0;34m\u001b[0m\u001b[0;34m\u001b[0m\u001b[0;34m\u001b[0m\u001b[0m\n\u001b[1;32m    861\u001b[0m         \u001b[0;32mif\u001b[0m \u001b[0m_num_samples\u001b[0m\u001b[0;34m(\u001b[0m\u001b[0mX\u001b[0m\u001b[0;34m)\u001b[0m \u001b[0;34m<\u001b[0m \u001b[0mself\u001b[0m\u001b[0;34m.\u001b[0m\u001b[0mn_clusters\u001b[0m\u001b[0;34m:\u001b[0m\u001b[0;34m\u001b[0m\u001b[0;34m\u001b[0m\u001b[0m\n",
            "\u001b[0;32m/usr/local/lib/python3.7/dist-packages/sklearn/utils/validation.py\u001b[0m in \u001b[0;36mcheck_array\u001b[0;34m(array, accept_sparse, accept_large_sparse, dtype, order, copy, force_all_finite, ensure_2d, allow_nd, ensure_min_samples, ensure_min_features, warn_on_dtype, estimator)\u001b[0m\n\u001b[1;32m    529\u001b[0m                     \u001b[0marray\u001b[0m \u001b[0;34m=\u001b[0m \u001b[0marray\u001b[0m\u001b[0;34m.\u001b[0m\u001b[0mastype\u001b[0m\u001b[0;34m(\u001b[0m\u001b[0mdtype\u001b[0m\u001b[0;34m,\u001b[0m \u001b[0mcasting\u001b[0m\u001b[0;34m=\u001b[0m\u001b[0;34m\"unsafe\"\u001b[0m\u001b[0;34m,\u001b[0m \u001b[0mcopy\u001b[0m\u001b[0;34m=\u001b[0m\u001b[0;32mFalse\u001b[0m\u001b[0;34m)\u001b[0m\u001b[0;34m\u001b[0m\u001b[0;34m\u001b[0m\u001b[0m\n\u001b[1;32m    530\u001b[0m                 \u001b[0;32melse\u001b[0m\u001b[0;34m:\u001b[0m\u001b[0;34m\u001b[0m\u001b[0;34m\u001b[0m\u001b[0m\n\u001b[0;32m--> 531\u001b[0;31m                     \u001b[0marray\u001b[0m \u001b[0;34m=\u001b[0m \u001b[0mnp\u001b[0m\u001b[0;34m.\u001b[0m\u001b[0masarray\u001b[0m\u001b[0;34m(\u001b[0m\u001b[0marray\u001b[0m\u001b[0;34m,\u001b[0m \u001b[0morder\u001b[0m\u001b[0;34m=\u001b[0m\u001b[0morder\u001b[0m\u001b[0;34m,\u001b[0m \u001b[0mdtype\u001b[0m\u001b[0;34m=\u001b[0m\u001b[0mdtype\u001b[0m\u001b[0;34m)\u001b[0m\u001b[0;34m\u001b[0m\u001b[0;34m\u001b[0m\u001b[0m\n\u001b[0m\u001b[1;32m    532\u001b[0m             \u001b[0;32mexcept\u001b[0m \u001b[0mComplexWarning\u001b[0m\u001b[0;34m:\u001b[0m\u001b[0;34m\u001b[0m\u001b[0;34m\u001b[0m\u001b[0m\n\u001b[1;32m    533\u001b[0m                 raise ValueError(\"Complex data not supported\\n\"\n",
            "\u001b[0;32m/usr/local/lib/python3.7/dist-packages/numpy/core/_asarray.py\u001b[0m in \u001b[0;36masarray\u001b[0;34m(a, dtype, order)\u001b[0m\n\u001b[1;32m     81\u001b[0m \u001b[0;34m\u001b[0m\u001b[0m\n\u001b[1;32m     82\u001b[0m     \"\"\"\n\u001b[0;32m---> 83\u001b[0;31m     \u001b[0;32mreturn\u001b[0m \u001b[0marray\u001b[0m\u001b[0;34m(\u001b[0m\u001b[0ma\u001b[0m\u001b[0;34m,\u001b[0m \u001b[0mdtype\u001b[0m\u001b[0;34m,\u001b[0m \u001b[0mcopy\u001b[0m\u001b[0;34m=\u001b[0m\u001b[0;32mFalse\u001b[0m\u001b[0;34m,\u001b[0m \u001b[0morder\u001b[0m\u001b[0;34m=\u001b[0m\u001b[0morder\u001b[0m\u001b[0;34m)\u001b[0m\u001b[0;34m\u001b[0m\u001b[0;34m\u001b[0m\u001b[0m\n\u001b[0m\u001b[1;32m     84\u001b[0m \u001b[0;34m\u001b[0m\u001b[0m\n\u001b[1;32m     85\u001b[0m \u001b[0;34m\u001b[0m\u001b[0m\n",
            "\u001b[0;32m/usr/local/lib/python3.7/dist-packages/pandas/core/series.py\u001b[0m in \u001b[0;36m__array__\u001b[0;34m(self, dtype)\u001b[0m\n\u001b[1;32m    795\u001b[0m               dtype='datetime64[ns]')\n\u001b[1;32m    796\u001b[0m         \"\"\"\n\u001b[0;32m--> 797\u001b[0;31m         \u001b[0;32mreturn\u001b[0m \u001b[0mnp\u001b[0m\u001b[0;34m.\u001b[0m\u001b[0masarray\u001b[0m\u001b[0;34m(\u001b[0m\u001b[0mself\u001b[0m\u001b[0;34m.\u001b[0m\u001b[0marray\u001b[0m\u001b[0;34m,\u001b[0m \u001b[0mdtype\u001b[0m\u001b[0;34m)\u001b[0m\u001b[0;34m\u001b[0m\u001b[0;34m\u001b[0m\u001b[0m\n\u001b[0m\u001b[1;32m    798\u001b[0m \u001b[0;34m\u001b[0m\u001b[0m\n\u001b[1;32m    799\u001b[0m     \u001b[0;31m# ----------------------------------------------------------------------\u001b[0m\u001b[0;34m\u001b[0m\u001b[0;34m\u001b[0m\u001b[0;34m\u001b[0m\u001b[0m\n",
            "\u001b[0;32m/usr/local/lib/python3.7/dist-packages/numpy/core/_asarray.py\u001b[0m in \u001b[0;36masarray\u001b[0;34m(a, dtype, order)\u001b[0m\n\u001b[1;32m     81\u001b[0m \u001b[0;34m\u001b[0m\u001b[0m\n\u001b[1;32m     82\u001b[0m     \"\"\"\n\u001b[0;32m---> 83\u001b[0;31m     \u001b[0;32mreturn\u001b[0m \u001b[0marray\u001b[0m\u001b[0;34m(\u001b[0m\u001b[0ma\u001b[0m\u001b[0;34m,\u001b[0m \u001b[0mdtype\u001b[0m\u001b[0;34m,\u001b[0m \u001b[0mcopy\u001b[0m\u001b[0;34m=\u001b[0m\u001b[0;32mFalse\u001b[0m\u001b[0;34m,\u001b[0m \u001b[0morder\u001b[0m\u001b[0;34m=\u001b[0m\u001b[0morder\u001b[0m\u001b[0;34m)\u001b[0m\u001b[0;34m\u001b[0m\u001b[0;34m\u001b[0m\u001b[0m\n\u001b[0m\u001b[1;32m     84\u001b[0m \u001b[0;34m\u001b[0m\u001b[0m\n\u001b[1;32m     85\u001b[0m \u001b[0;34m\u001b[0m\u001b[0m\n",
            "\u001b[0;32m/usr/local/lib/python3.7/dist-packages/pandas/core/arrays/numpy_.py\u001b[0m in \u001b[0;36m__array__\u001b[0;34m(self, dtype)\u001b[0m\n\u001b[1;32m    209\u001b[0m \u001b[0;34m\u001b[0m\u001b[0m\n\u001b[1;32m    210\u001b[0m     \u001b[0;32mdef\u001b[0m \u001b[0m__array__\u001b[0m\u001b[0;34m(\u001b[0m\u001b[0mself\u001b[0m\u001b[0;34m,\u001b[0m \u001b[0mdtype\u001b[0m\u001b[0;34m=\u001b[0m\u001b[0;32mNone\u001b[0m\u001b[0;34m)\u001b[0m \u001b[0;34m->\u001b[0m \u001b[0mnp\u001b[0m\u001b[0;34m.\u001b[0m\u001b[0mndarray\u001b[0m\u001b[0;34m:\u001b[0m\u001b[0;34m\u001b[0m\u001b[0;34m\u001b[0m\u001b[0m\n\u001b[0;32m--> 211\u001b[0;31m         \u001b[0;32mreturn\u001b[0m \u001b[0mnp\u001b[0m\u001b[0;34m.\u001b[0m\u001b[0masarray\u001b[0m\u001b[0;34m(\u001b[0m\u001b[0mself\u001b[0m\u001b[0;34m.\u001b[0m\u001b[0m_ndarray\u001b[0m\u001b[0;34m,\u001b[0m \u001b[0mdtype\u001b[0m\u001b[0;34m=\u001b[0m\u001b[0mdtype\u001b[0m\u001b[0;34m)\u001b[0m\u001b[0;34m\u001b[0m\u001b[0;34m\u001b[0m\u001b[0m\n\u001b[0m\u001b[1;32m    212\u001b[0m \u001b[0;34m\u001b[0m\u001b[0m\n\u001b[1;32m    213\u001b[0m     \u001b[0m_HANDLED_TYPES\u001b[0m \u001b[0;34m=\u001b[0m \u001b[0;34m(\u001b[0m\u001b[0mnp\u001b[0m\u001b[0;34m.\u001b[0m\u001b[0mndarray\u001b[0m\u001b[0;34m,\u001b[0m \u001b[0mnumbers\u001b[0m\u001b[0;34m.\u001b[0m\u001b[0mNumber\u001b[0m\u001b[0;34m)\u001b[0m\u001b[0;34m\u001b[0m\u001b[0;34m\u001b[0m\u001b[0m\n",
            "\u001b[0;32m/usr/local/lib/python3.7/dist-packages/numpy/core/_asarray.py\u001b[0m in \u001b[0;36masarray\u001b[0;34m(a, dtype, order)\u001b[0m\n\u001b[1;32m     81\u001b[0m \u001b[0;34m\u001b[0m\u001b[0m\n\u001b[1;32m     82\u001b[0m     \"\"\"\n\u001b[0;32m---> 83\u001b[0;31m     \u001b[0;32mreturn\u001b[0m \u001b[0marray\u001b[0m\u001b[0;34m(\u001b[0m\u001b[0ma\u001b[0m\u001b[0;34m,\u001b[0m \u001b[0mdtype\u001b[0m\u001b[0;34m,\u001b[0m \u001b[0mcopy\u001b[0m\u001b[0;34m=\u001b[0m\u001b[0;32mFalse\u001b[0m\u001b[0;34m,\u001b[0m \u001b[0morder\u001b[0m\u001b[0;34m=\u001b[0m\u001b[0morder\u001b[0m\u001b[0;34m)\u001b[0m\u001b[0;34m\u001b[0m\u001b[0;34m\u001b[0m\u001b[0m\n\u001b[0m\u001b[1;32m     84\u001b[0m \u001b[0;34m\u001b[0m\u001b[0m\n\u001b[1;32m     85\u001b[0m \u001b[0;34m\u001b[0m\u001b[0m\n",
            "\u001b[0;31mValueError\u001b[0m: setting an array element with a sequence."
          ]
        }
      ]
    },
    {
      "cell_type": "markdown",
      "metadata": {
        "id": "g2e4XpT6qd4A"
      },
      "source": [
        "## NIPS Papers"
      ]
    },
    {
      "cell_type": "code",
      "metadata": {
        "colab": {
          "base_uri": "https://localhost:8080/"
        },
        "id": "CkrGFwg_qgPO",
        "outputId": "3406e732-1b6b-44b8-d4e5-f087156ab684"
      },
      "source": [
        "!wget https://archive.ics.uci.edu/ml/machine-learning-databases/00371/NIPS_1987-2015.csv\n",
        "\n",
        "import pandas as pd\n",
        "\n",
        "n_samples = 250\n",
        "\n",
        "# beware that features are in rows (words)\n",
        "d = pd.read_csv('NIPS_1987-2015.csv')\n",
        "\n",
        "subsample = np.random.random_integers(0,d.shape[1],size=n_samples)\n",
        "cols = d.columns[subsample]\n",
        "Xs = d[cols].T\n",
        "Xs = Xs.to_numpy()\n",
        "Xs = [x for x in Xs]\n",
        "\n",
        "datasets['NIPS'] = Xs"
      ],
      "execution_count": null,
      "outputs": [
        {
          "output_type": "stream",
          "text": [
            "--2021-05-18 11:54:05--  https://archive.ics.uci.edu/ml/machine-learning-databases/00371/NIPS_1987-2015.csv\n",
            "Resolving archive.ics.uci.edu (archive.ics.uci.edu)... 128.195.10.252\n",
            "Connecting to archive.ics.uci.edu (archive.ics.uci.edu)|128.195.10.252|:443... connected.\n",
            "HTTP request sent, awaiting response... 200 OK\n",
            "Length: 133587258 (127M) [application/x-httpd-php]\n",
            "Saving to: ‘NIPS_1987-2015.csv.1’\n",
            "\n",
            "NIPS_1987-2015.csv. 100%[===================>] 127.40M  44.5MB/s    in 2.9s    \n",
            "\n",
            "2021-05-18 11:54:09 (44.5 MB/s) - ‘NIPS_1987-2015.csv.1’ saved [133587258/133587258]\n",
            "\n"
          ],
          "name": "stdout"
        },
        {
          "output_type": "stream",
          "text": [
            "/usr/local/lib/python3.7/dist-packages/ipykernel_launcher.py:10: DeprecationWarning: This function is deprecated. Please call randint(0, 5812 + 1) instead\n",
            "  # Remove the CWD from sys.path while we load stuff.\n"
          ],
          "name": "stderr"
        }
      ]
    },
    {
      "cell_type": "markdown",
      "metadata": {
        "id": "Ddwuutqfqrgb"
      },
      "source": [
        "## Word Embeddings of Wikipedia"
      ]
    },
    {
      "cell_type": "code",
      "metadata": {
        "id": "oVu0cEzpq0SR"
      },
      "source": [
        "## note: this is the only *private* dataset in the experiemnt\n",
        "\n",
        "# prepare spacy embeddings\n",
        "!python -m spacy download en_core_web_md\n",
        "import en_core_web_md\n",
        "nlp = en_core_web_md.load()\n",
        "\n",
        "# mount google drive\n",
        "from google.colab import drive\n",
        "drive.mount('/content/drive/')\n",
        "\n",
        "n_samples = 250\n",
        "lines = []\n",
        "with open('content/My Drive/Approach2_73M.csv','r') as f:\n",
        "  lines = itertools.islice(f,10000)\n",
        "  subsample = np.random.random_integers(0,10000,n_samples)\n",
        "  lines = [l for i,l in enumerate(lines) if i in subsample]\n",
        "\n",
        "Xs = [nlp(lines[i]).vector for i in range(len(lines))]\n",
        "datasets['Word2Vec'] = Xs"
      ],
      "execution_count": null,
      "outputs": []
    },
    {
      "cell_type": "markdown",
      "metadata": {
        "id": "UUgnHbYkPAt1"
      },
      "source": [
        "## News20"
      ]
    },
    {
      "cell_type": "code",
      "metadata": {
        "colab": {
          "base_uri": "https://localhost:8080/"
        },
        "id": "Ia3NJIytPGSM",
        "outputId": "4ac91b0b-f130-43ce-9388-20604a05ba48"
      },
      "source": [
        "from sklearn.datasets import fetch_20newsgroups\n",
        "from sklearn.feature_extraction.text import TfidfVectorizer\n",
        "\n",
        "n_samples = 250\n",
        "\n",
        "categories = ['alt.atheism', 'talk.religion.misc','comp.graphics', 'sci.space']\n",
        "newsgroups_train = fetch_20newsgroups(subset='train',categories=categories)\n",
        "\n",
        "vectorizer = TfidfVectorizer()\n",
        "Xs = vectorizer.fit_transform(newsgroups_train.data)\n",
        "print(Xs.mean())\n",
        "\n",
        "subsample = np.random.random_integers(0,Xs.shape[0],size=n_samples)\n",
        "Xs = Xs[subsample,:]\n",
        "Xs = [x.toarray() for x in Xs]\n",
        "\n",
        "datasets['News20'] = Xs\n",
        "#average_param_gain(Xs)"
      ],
      "execution_count": null,
      "outputs": [
        {
          "output_type": "stream",
          "text": [
            "0.00027152630655509285\n"
          ],
          "name": "stdout"
        },
        {
          "output_type": "stream",
          "text": [
            "/usr/local/lib/python3.7/dist-packages/ipykernel_launcher.py:13: DeprecationWarning: This function is deprecated. Please call randint(0, 2034 + 1) instead\n",
            "  del sys.path[0]\n"
          ],
          "name": "stderr"
        }
      ]
    },
    {
      "cell_type": "markdown",
      "metadata": {
        "id": "wkMIEzKfPKbZ"
      },
      "source": [
        "## Godwin\n",
        "\n"
      ]
    },
    {
      "cell_type": "code",
      "metadata": {
        "colab": {
          "base_uri": "https://localhost:8080/"
        },
        "id": "RD8ZYrDiPPj-",
        "outputId": "845dde7f-1ec2-4d35-d65c-65ffa2f790a7"
      },
      "source": [
        "import scipy.io\n",
        "from google.colab import drive\n",
        "\n",
        "# mount google drive\n",
        "drive.mount('/content/drive/',force_remount=True)\n",
        "\n",
        "file_name = '/content/drive/My Drive/Goodwin_040.mtx'\n",
        "matrix = scipy.io.mmread(file_name)\n",
        "# we change the format\n",
        "matrix = scipy.sparse.csr_matrix(matrix)\n",
        "\n",
        "n_samples = 250\n",
        "subsample = np.random.random_integers(0,matrix.shape[0],size=n_samples)\n",
        "\n",
        "Xs = matrix[subsample]\n",
        "Xs = [x.toarray() for x in Xs]\n",
        "\n",
        "datasets['Goodwin'] = Xs"
      ],
      "execution_count": null,
      "outputs": [
        {
          "output_type": "stream",
          "text": [
            "Mounted at /content/drive/\n"
          ],
          "name": "stdout"
        },
        {
          "output_type": "stream",
          "text": [
            "/usr/local/lib/python3.7/dist-packages/ipykernel_launcher.py:13: DeprecationWarning: This function is deprecated. Please call randint(0, 17922 + 1) instead\n",
            "  del sys.path[0]\n"
          ],
          "name": "stderr"
        }
      ]
    },
    {
      "cell_type": "markdown",
      "metadata": {
        "id": "lptcU2uSPh9n"
      },
      "source": [
        "## Micielski 2017"
      ]
    },
    {
      "cell_type": "code",
      "metadata": {
        "colab": {
          "base_uri": "https://localhost:8080/"
        },
        "id": "5-BzatY9Pm5g",
        "outputId": "5b753ad4-6c9c-4787-bea5-be3b5b02928b"
      },
      "source": [
        "!wget https://suitesparse-collection-website.herokuapp.com/MM/Mycielski/mycielskian17.tar.gz\n",
        "!tar -xf mycielskian17.tar.gz\n",
        "\n",
        "n_samples = 250\n",
        "\n",
        "file_name = 'mycielskian17/mycielskian17.mtx'\n",
        "matrix = scipy.io.mmread(file_name)\n",
        "matrix = scipy.sparse.csr_matrix(matrix)\n",
        "\n",
        "subsample = np.random.random_integers(0,matrix.shape[0],size=n_samples)\n",
        "\n",
        "Xs = matrix[subsample]\n",
        "Xs = [x.toarray() for x in Xs]\n",
        "datasets['Mycielski'] = Xs"
      ],
      "execution_count": null,
      "outputs": [
        {
          "output_type": "stream",
          "text": [
            "--2021-05-18 11:54:59--  https://suitesparse-collection-website.herokuapp.com/MM/Mycielski/mycielskian17.tar.gz\n",
            "Resolving suitesparse-collection-website.herokuapp.com (suitesparse-collection-website.herokuapp.com)... 54.224.34.30, 54.243.129.215, 34.201.81.34, ...\n",
            "Connecting to suitesparse-collection-website.herokuapp.com (suitesparse-collection-website.herokuapp.com)|54.224.34.30|:443... connected.\n",
            "HTTP request sent, awaiting response... 301 Moved Permanently\n",
            "Location: http://sparse-files.engr.tamu.edu/MM/Mycielski/mycielskian17.tar.gz [following]\n",
            "--2021-05-18 11:54:59--  http://sparse-files.engr.tamu.edu/MM/Mycielski/mycielskian17.tar.gz\n",
            "Resolving sparse-files.engr.tamu.edu (sparse-files.engr.tamu.edu)... 52.219.103.8\n",
            "Connecting to sparse-files.engr.tamu.edu (sparse-files.engr.tamu.edu)|52.219.103.8|:80... connected.\n",
            "HTTP request sent, awaiting response... 200 OK\n",
            "Length: 120811979 (115M) [application/x-tar]\n",
            "Saving to: ‘mycielskian17.tar.gz.1’\n",
            "\n",
            "mycielskian17.tar.g 100%[===================>] 115.21M  68.2MB/s    in 1.7s    \n",
            "\n",
            "2021-05-18 11:55:01 (68.2 MB/s) - ‘mycielskian17.tar.gz.1’ saved [120811979/120811979]\n",
            "\n"
          ],
          "name": "stdout"
        },
        {
          "output_type": "stream",
          "text": [
            "/usr/local/lib/python3.7/dist-packages/ipykernel_launcher.py:10: DeprecationWarning: This function is deprecated. Please call randint(0, 98303 + 1) instead\n",
            "  # Remove the CWD from sys.path while we load stuff.\n"
          ],
          "name": "stderr"
        }
      ]
    },
    {
      "cell_type": "markdown",
      "metadata": {
        "id": "Eh09B0QEPxmc"
      },
      "source": [
        "## MNIST"
      ]
    },
    {
      "cell_type": "code",
      "metadata": {
        "colab": {
          "base_uri": "https://localhost:8080/"
        },
        "id": "BKqKTNheP1B_",
        "outputId": "ef964e55-57b0-443b-f20c-1727480ee8be"
      },
      "source": [
        "import tensorflow as tf\n",
        "from tensorflow.keras import backend as K\n",
        "\n",
        "mnist = tf.keras.datasets.mnist\n",
        "(train_inputs, train_labels), _ = mnist.load_data()\n",
        "train_inputs = train_inputs / 255.0\n",
        "\n",
        "n_samples = 250\n",
        "\n",
        "subsample = np.random.random_integers(0,train_inputs.shape[0],size=n_samples)\n",
        "\n",
        "Xs = train_inputs[subsample]\n",
        "\n",
        "datasets['MNIST'] = Xs"
      ],
      "execution_count": null,
      "outputs": [
        {
          "output_type": "stream",
          "text": [
            "/usr/local/lib/python3.7/dist-packages/ipykernel_launcher.py:10: DeprecationWarning: This function is deprecated. Please call randint(0, 60000 + 1) instead\n",
            "  # Remove the CWD from sys.path while we load stuff.\n"
          ],
          "name": "stderr"
        }
      ]
    },
    {
      "cell_type": "markdown",
      "metadata": {
        "id": "uww_Eu7ssQ3e"
      },
      "source": [
        "## Caltech101"
      ]
    },
    {
      "cell_type": "code",
      "metadata": {
        "colab": {
          "base_uri": "https://localhost:8080/"
        },
        "id": "CAY9gu0FtwdT",
        "outputId": "c3c58b2a-8a3b-417e-f20a-f1bf5e8fd358"
      },
      "source": [
        "import cv2\n",
        "\n",
        "## note: need the file http://www.vision.caltech.edu/Image_Datasets/Caltech101/101_ObjectCategories.tar.gz shared via Google Drive\n",
        "\n",
        "# fixed-sizes for image\n",
        "fixed_size = (500, 500) # to change the size of all the images to 500x500 px.\n",
        "\n",
        "# path to training data\n",
        "train_path = \"/content/drive/My Drive/101_ObjectCategories\"\n",
        "\n",
        "# get the training labels\n",
        "train_labels = os.listdir(train_path)\n",
        "\n",
        "n_samples = 250\n",
        "\n",
        "count = 0\n",
        "images = []\n",
        "# loop over the training data sub-folders\n",
        "for training_name in train_labels:\n",
        "\n",
        "    # join the training data path and each species training folder\n",
        "    dir = os.path.join(train_path, training_name)\n",
        "\n",
        "    # get the current training label\n",
        "    current_label = training_name\n",
        "\n",
        "    # loop over the images in each sub-folder\n",
        "    contents = os.listdir(dir)\n",
        "    for file in contents:\n",
        "      # sub-sample\n",
        "      if np.random.rand() < 0.2:\n",
        "        # get the image file name\n",
        "        file_dir = os.path.join(dir, file)\n",
        "        # read the image and resize it to a fixed-size\n",
        "        image = cv2.imread(file_dir)\n",
        "        image = cv2.resize(image, fixed_size)\n",
        "        count = count + 1\n",
        "        if count > n_samples:\n",
        "          break\n",
        "        images.append(image)\n",
        "\n",
        "## subsample\n",
        "subsample = np.random.random_integers(0,len(images)-1,n_samples)\n",
        "Xs = [images[i][:,:,0] for i in subsample]\n",
        "datasets['Caltech101'] = Xs"
      ],
      "execution_count": null,
      "outputs": [
        {
          "output_type": "stream",
          "text": [
            "/usr/local/lib/python3.7/dist-packages/ipykernel_launcher.py:43: DeprecationWarning: This function is deprecated. Please call randint(0, 249 + 1) instead\n"
          ],
          "name": "stderr"
        }
      ]
    },
    {
      "cell_type": "markdown",
      "metadata": {
        "id": "NVbKoXAof0lT"
      },
      "source": [
        "## Cars"
      ]
    },
    {
      "cell_type": "code",
      "metadata": {
        "id": "4-UqNE3_2sRz",
        "colab": {
          "base_uri": "https://localhost:8080/",
          "height": 240
        },
        "outputId": "f787e88b-909a-4e35-f256-5a85c00b7dc6"
      },
      "source": [
        "## note: this uses Cars dataset, download to google drive (http://imagenet.stanford.edu/internal/car196/cars_train.tgz)\n",
        "\n",
        "# fixed-sizes for image\n",
        "fixed_size = (500, 500) # to change the size of all the images to 500x500 px.\n",
        "\n",
        "# path to training data\n",
        "train_path = \"/content/drive/My Drive/cars_train\"\n",
        "\n",
        "# get the training labels\n",
        "train_labels = os.listdir(train_path)\n",
        "\n",
        "n_samples = 250\n",
        "\n",
        "count = 0\n",
        "images = []\n",
        "# loop over the training data sub-folders\n",
        "for training_name in train_labels:\n",
        "\n",
        "    # join the training data path and each species training folder\n",
        "    dir = os.path.join(train_path, training_name)\n",
        "\n",
        "    # get the current training label\n",
        "    current_label = training_name\n",
        "\n",
        "    # process one file, sub-sample\n",
        "    if np.random.rand() < 0.2:\n",
        "      file = os.path.join(train_path, training_name)\n",
        "      try:\n",
        "        image = cv2.imread(file)\n",
        "        image = cv2.resize(image, fixed_size)\n",
        "        count = count + 1\n",
        "        if count > n_samples:\n",
        "          break\n",
        "        images.append(image)\n",
        "      except:\n",
        "        pass\n",
        "\n",
        "## subsample\n",
        "subsample = np.random.randint(0,len(images)-1,n_samples)\n",
        "Xs = [images[i][:,:,0] for i in subsample]\n",
        "datasets['Cars'] = Xs"
      ],
      "execution_count": null,
      "outputs": [
        {
          "output_type": "error",
          "ename": "FileNotFoundError",
          "evalue": "ignored",
          "traceback": [
            "\u001b[0;31m---------------------------------------------------------------------------\u001b[0m",
            "\u001b[0;31mFileNotFoundError\u001b[0m                         Traceback (most recent call last)",
            "\u001b[0;32m<ipython-input-14-779f9da50749>\u001b[0m in \u001b[0;36m<module>\u001b[0;34m()\u001b[0m\n\u001b[1;32m      8\u001b[0m \u001b[0;34m\u001b[0m\u001b[0m\n\u001b[1;32m      9\u001b[0m \u001b[0;31m# get the training labels\u001b[0m\u001b[0;34m\u001b[0m\u001b[0;34m\u001b[0m\u001b[0;34m\u001b[0m\u001b[0m\n\u001b[0;32m---> 10\u001b[0;31m \u001b[0mtrain_labels\u001b[0m \u001b[0;34m=\u001b[0m \u001b[0mos\u001b[0m\u001b[0;34m.\u001b[0m\u001b[0mlistdir\u001b[0m\u001b[0;34m(\u001b[0m\u001b[0mtrain_path\u001b[0m\u001b[0;34m)\u001b[0m\u001b[0;34m\u001b[0m\u001b[0;34m\u001b[0m\u001b[0m\n\u001b[0m\u001b[1;32m     11\u001b[0m \u001b[0;34m\u001b[0m\u001b[0m\n\u001b[1;32m     12\u001b[0m \u001b[0mn_samples\u001b[0m \u001b[0;34m=\u001b[0m \u001b[0;36m250\u001b[0m\u001b[0;34m\u001b[0m\u001b[0;34m\u001b[0m\u001b[0m\n",
            "\u001b[0;31mFileNotFoundError\u001b[0m: [Errno 2] No such file or directory: '/content/drive/My Drive/cars_train'"
          ]
        }
      ]
    },
    {
      "cell_type": "markdown",
      "metadata": {
        "id": "CS5U4kKmwcP-"
      },
      "source": [
        "# Implementation"
      ]
    },
    {
      "cell_type": "markdown",
      "metadata": {
        "id": "8RMJtkGrjhHR"
      },
      "source": [
        "## Binomial Utils"
      ]
    },
    {
      "cell_type": "code",
      "metadata": {
        "colab": {
          "base_uri": "https://localhost:8080/",
          "height": 306
        },
        "id": "0wTeRW6xjkVO",
        "outputId": "fb33b893-acee-4fbb-d9e1-1a37fc6e204f"
      },
      "source": [
        "import sympy as sm\n",
        "from sympy import Symbol\n",
        "from sympy.functions.combinatorial.numbers import stirling, factorial, binomial\n",
        "\n",
        "from IPython.display import display\n",
        "\n",
        "def binom_raw_moment(n=Symbol('n'),p=Symbol('p'),d=2):\n",
        "\n",
        "  def summand(k):\n",
        "    return stirling(d,k)*factorial(k)*binomial(n,k)*p**k\n",
        "\n",
        "  out = sum(summand(k) for k in range(d+1))\n",
        "\n",
        "  return out\n",
        "\n",
        "def binom_central_moment(n=Symbol('n'),p=Symbol('p'),d=2):\n",
        "\n",
        "  def summand(k):\n",
        "    return binomial(d,k)*binom_raw_moment(n,p,k)*(-n*p)**(d-k)\n",
        "\n",
        "  out = sum(summand(k) for k in range(d+1))\n",
        "\n",
        "  return out\n",
        "\n",
        "def binom_central_moment_norm(n=Symbol('n'),p=Symbol('p'),d=2):\n",
        "  ''' normalized by n**(d/2) '''\n",
        "\n",
        "  out = binom_central_moment(n,p,d)/n**(d/2)\n",
        "  x = Symbol('x')\n",
        "  out = out.subs(n,1/x).simplify().subs(x,1/n)\n",
        "  return out\n",
        "\n",
        "def binom_symmetr_moment(n=Symbol('n'),p=Symbol('p'),d=2):\n",
        "  ''' moment of B'-B'', the symmetrized binomial '''\n",
        "\n",
        "  def summand(k):\n",
        "    return (-1)**(d-k)*binomial(d,k)*binom_raw_moment(n,p,k)*binom_raw_moment(n,p,d-k)\n",
        "\n",
        "  out = sum(summand(k) for k in range(d+1))\n",
        "\n",
        "  return out\n",
        "\n",
        "def binom_symmetr_norm_moment(n=Symbol('n'),p=Symbol('p'),d=2):\n",
        "  ''' moment of B'-B'' (symmetrized), normalized by n^(d/2) '''\n",
        "\n",
        "  out = binom_symmetr_moment(n,p,d)/n**(d/2)\n",
        "  x = Symbol('x')\n",
        "  out = out.subs(n,1/x).simplify().subs(x,1/n)\n",
        "  return out\n",
        "\n",
        "  return out\n",
        "\n",
        "from matplotlib import pyplot as plt\n",
        "outs = [binom_symmetr_norm_moment(n,0.1,10) for n in range(2,100)]\n",
        "plt.plot(outs)\n",
        "\n",
        "## test: compare with known equations on central moments\n",
        "\n",
        "n,p = Symbol('n'),Symbol('p')\n",
        "display(binom_central_moment_norm(n,p,4))\n",
        "\n",
        "## convert symbolic functions to fast numpy functions\n",
        "\n",
        "n = Symbol('n')\n",
        "p = Symbol('p')\n",
        "d = 30\n",
        "binom_symmetr_norm_moment_np = {}\n",
        "for i in range(0,d+1,2):\n",
        "  binom_symmetr_norm_moment_np[i] = sm.utilities.lambdify([n,p],binom_symmetr_norm_moment(n,p,i))"
      ],
      "execution_count": null,
      "outputs": [
        {
          "output_type": "display_data",
          "data": {
            "text/latex": "$\\displaystyle - p \\left(p - 1\\right) \\left(- 3 p^{2} + 3 p + \\frac{6 p^{2}}{n} - \\frac{6 p}{n} + \\frac{1}{n}\\right)$",
            "text/plain": [
              "-p*(p - 1)*(-3*p**2 + 3*p + 6*p**2/n - 6*p/n + 1/n)"
            ]
          },
          "metadata": {
            "tags": []
          }
        },
        {
          "output_type": "display_data",
          "data": {
            "image/png": "[encoded data removed]",
            "text/plain": [
              "<Figure size 432x288 with 1 Axes>"
            ]
          },
          "metadata": {
            "tags": [],
            "needs_background": "light"
          }
        }
      ]
    },
    {
      "cell_type": "markdown",
      "metadata": {
        "id": "I3uso5M-nAyJ"
      },
      "source": [
        "## Combinatorial Moment Bounds"
      ]
    },
    {
      "cell_type": "code",
      "metadata": {
        "colab": {
          "base_uri": "https://localhost:8080/",
          "height": 286
        },
        "id": "j_tLIjScjahY",
        "outputId": "535d0069-ebc5-4a4b-8fa7-c370bbb6ed2f"
      },
      "source": [
        "import itertools\n",
        "import numpy as np\n",
        "from scipy import special, optimize\n",
        "\n",
        "def T_new(n,p,d,v):\n",
        "  ''' moment bound for single error contrib (ours); note the factor of 4 which appears except the case of d=2'''\n",
        "  out = sum(special.binom(d,2*k)*p**(k>0)*v**(2*k)*(1-v**2)**(d/2-k)*binom_symmetr_norm_moment_np[d-2*k](n-1,p) for k in range(int(d/2)+1))\n",
        "  if d>2:\n",
        "    return 4*out ** (2/d)\n",
        "  else:\n",
        "    return 2**0.5*out ** (2/d)\n",
        "\n",
        "def T_old(n,p,d,v):\n",
        "  ''' moment bound for single error contrib (prior works)\n",
        "      based on Lemma 2.1 (Lemma D.1, Lemma D.2) in https://arxiv.org/pdf/1903.03605.pdf\n",
        "      note an extra factor of 2 is due to symmetrization\n",
        "   '''\n",
        "  bound_d1 = max(v* d/k * (p/(d*v**2)) ** (1/(2*k)) for k in range(1,int(d/2)+1) )**2\n",
        "  bound_d2 = d/np.log(1/p)\n",
        "  # add hidden constants\n",
        "  bound_d1 = 2*2*np.exp(1)*bound_d1\n",
        "  bound_d2 = 2*8*bound_d2\n",
        "  return min(bound_d1,bound_d2)\n",
        "\n",
        "def T_total_new(n,m,p,d,v,T=T_new):\n",
        "  ''' moment bound for total error, needs subroutine for error contribs '''\n",
        "  ks = np.arange(2,d+1,2)\n",
        "  outs = np.array([T(n,p,k,v)* special.binom(d,k)**(1/k) for k in ks])\n",
        "  fun = lambda t: np.log( 1+ ((outs/t)**ks).sum() ) - d/(2*m)\n",
        "  a = 1e-6\n",
        "  b = m*d\n",
        "  Q = optimize.bisect(fun,a,b)\n",
        "  s = m*p\n",
        "  return Q/s\n",
        "\n",
        "def get_confidence(n,m,p,eps,v,T=T_new):\n",
        "\n",
        "  outs = []\n",
        "  for k in range(2,30+1,2):\n",
        "    moment = T_total_new(n,m,p,k,v,T)\n",
        "    out = (moment/eps)**k\n",
        "    outs.append(out)\n",
        "  return min(outs)\n",
        "\n",
        "def plot_confidence(n,m,p,v,T=T_new,label=None,ax=None,linestyle=None):\n",
        "\n",
        "  eps_grid = np.linspace(0,1,50)\n",
        "  outs = []\n",
        "\n",
        "  for eps in eps_grid:\n",
        "    out = get_confidence(n,m,p,eps,v,T)\n",
        "    out = min(out,1)\n",
        "    outs.append(out)\n",
        "\n",
        "  ## smooth the plot\n",
        "  outs = gaussian_filter1d(outs,1)\n",
        "  ax.plot(eps_grid,1-outs,label=label,linestyle=linestyle)\n",
        "\n",
        "\n",
        "## sanity check: expect linear growth in d\n",
        "\n",
        "from matplotlib import pyplot as plt\n",
        "plt.plot([T_total_new(1000,100,0.1,d,0.1,T=T_new) for d in range(2,20,2)])"
      ],
      "execution_count": null,
      "outputs": [
        {
          "output_type": "execute_result",
          "data": {
            "text/plain": [
              "[<matplotlib.lines.Line2D at 0x7f86a49c7d50>]"
            ]
          },
          "metadata": {
            "tags": []
          },
          "execution_count": 16
        },
        {
          "output_type": "display_data",
          "data": {
            "image/png": "[encoded data removed]",
            "text/plain": [
              "<Figure size 432x288 with 1 Axes>"
            ]
          },
          "metadata": {
            "tags": [],
            "needs_background": "light"
          }
        }
      ]
    },
    {
      "cell_type": "markdown",
      "metadata": {
        "id": "JtiHRtSYnGFe"
      },
      "source": [
        "# Experiments"
      ]
    },
    {
      "cell_type": "markdown",
      "metadata": {
        "id": "o00-Fp5bueTt"
      },
      "source": [
        "## Running Time"
      ]
    },
    {
      "cell_type": "code",
      "metadata": {
        "colab": {
          "base_uri": "https://localhost:8080/",
          "height": 431
        },
        "id": "SHs4KLhEnJzw",
        "outputId": "ff0c4c71-6530-419a-9fa3-7b70016bf6fe"
      },
      "source": [
        "import seaborn as sn\n",
        "import numpy as np\n",
        "import pandas as pd\n",
        "import time\n",
        "\n",
        "sn.set_style('darkgrid')\n",
        "sn.set_context(\"notebook\",font_scale=1.2)\n",
        "\n",
        "times = {}\n",
        "enne = []\n",
        "emme = []\n",
        "di = []\n",
        "pi = []\n",
        "vi = []\n",
        "timing = []\n",
        "estimation = []\n",
        "for _ in range(10000):\n",
        "  ## sample setups\n",
        "\n",
        "  n = np.random.randint(1000,100000)\n",
        "  m = int(np.random.randint(int(0.01*n),n))\n",
        "  d = np.random.randint(2,30+1)\n",
        "  p = np.random.uniform(1e-3,1)\n",
        "  v = np.random.uniform(1e-3,1) # different v - different data\n",
        "\n",
        "  enne.append(n)\n",
        "  emme.append(m)\n",
        "  di.append(d)\n",
        "  pi.append(p)\n",
        "  vi.append(v)\n",
        "  ## measure time\n",
        "  start_time = time.time()\n",
        "  estimation.append(T_total_new(n,m,p,d,v))\n",
        "  end_time = time.time()\n",
        "  timing.append((end_time-start_time))\n",
        "\n",
        "times['time'] = timing\n",
        "\n",
        "pd = pd.DataFrame.from_dict(times)\n",
        "sn.displot(times, kind=\"kde\")\n",
        "plt.xlabel('seconds')\n",
        "plt.xlim((0,0.01))"
      ],
      "execution_count": null,
      "outputs": [
        {
          "output_type": "stream",
          "text": [
            "/usr/local/lib/python3.7/dist-packages/ipykernel_launcher.py:9: RuntimeWarning: invalid value encountered in double_scalars\n",
            "  if __name__ == '__main__':\n"
          ],
          "name": "stderr"
        },
        {
          "output_type": "execute_result",
          "data": {
            "text/plain": [
              "(0.0, 0.01)"
            ]
          },
          "metadata": {
            "tags": []
          },
          "execution_count": 17
        },
        {
          "output_type": "display_data",
          "data": {
            "image/png": "[encoded data removed]",
            "text/plain": [
              "<Figure size 437.645x360 with 1 Axes>"
            ]
          },
          "metadata": {
            "tags": []
          }
        }
      ]
    },
    {
      "cell_type": "code",
      "metadata": {
        "id": "9i341In7u_Wk",
        "colab": {
          "base_uri": "https://localhost:8080/"
        },
        "outputId": "117b5d6a-8246-496d-a630-fcd657d3a273"
      },
      "source": [
        "## see Colab PCU params\n",
        "!cat /proc/cpuinfo"
      ],
      "execution_count": null,
      "outputs": [
        {
          "output_type": "stream",
          "text": [
            "processor\t: 0\n",
            "vendor_id\t: GenuineIntel\n",
            "cpu family\t: 6\n",
            "model\t\t: 63\n",
            "model name\t: Intel(R) Xeon(R) CPU @ 2.30GHz\n",
            "stepping\t: 0\n",
            "microcode\t: 0x1\n",
            "cpu MHz\t\t: 2299.998\n",
            "cache size\t: 46080 KB\n",
            "physical id\t: 0\n",
            "siblings\t: 2\n",
            "core id\t\t: 0\n",
            "cpu cores\t: 1\n",
            "apicid\t\t: 0\n",
            "initial apicid\t: 0\n",
            "fpu\t\t: yes\n",
            "fpu_exception\t: yes\n",
            "cpuid level\t: 13\n",
            "wp\t\t: yes\n",
            "flags\t\t: fpu vme de pse tsc msr pae mce cx8 apic sep mtrr pge mca cmov pat pse36 clflush mmx fxsr sse sse2 ss ht syscall nx pdpe1gb rdtscp lm constant_tsc rep_good nopl xtopology nonstop_tsc cpuid tsc_known_freq pni pclmulqdq ssse3 fma cx16 pcid sse4_1 sse4_2 x2apic movbe popcnt aes xsave avx f16c rdrand hypervisor lahf_lm abm invpcid_single ssbd ibrs ibpb stibp fsgsbase tsc_adjust bmi1 avx2 smep bmi2 erms invpcid xsaveopt arat md_clear arch_capabilities\n",
            "bugs\t\t: cpu_meltdown spectre_v1 spectre_v2 spec_store_bypass l1tf mds swapgs\n",
            "bogomips\t: 4599.99\n",
            "clflush size\t: 64\n",
            "cache_alignment\t: 64\n",
            "address sizes\t: 46 bits physical, 48 bits virtual\n",
            "power management:\n",
            "\n",
            "processor\t: 1\n",
            "vendor_id\t: GenuineIntel\n",
            "cpu family\t: 6\n",
            "model\t\t: 63\n",
            "model name\t: Intel(R) Xeon(R) CPU @ 2.30GHz\n",
            "stepping\t: 0\n",
            "microcode\t: 0x1\n",
            "cpu MHz\t\t: 2299.998\n",
            "cache size\t: 46080 KB\n",
            "physical id\t: 0\n",
            "siblings\t: 2\n",
            "core id\t\t: 0\n",
            "cpu cores\t: 1\n",
            "apicid\t\t: 1\n",
            "initial apicid\t: 1\n",
            "fpu\t\t: yes\n",
            "fpu_exception\t: yes\n",
            "cpuid level\t: 13\n",
            "wp\t\t: yes\n",
            "flags\t\t: fpu vme de pse tsc msr pae mce cx8 apic sep mtrr pge mca cmov pat pse36 clflush mmx fxsr sse sse2 ss ht syscall nx pdpe1gb rdtscp lm constant_tsc rep_good nopl xtopology nonstop_tsc cpuid tsc_known_freq pni pclmulqdq ssse3 fma cx16 pcid sse4_1 sse4_2 x2apic movbe popcnt aes xsave avx f16c rdrand hypervisor lahf_lm abm invpcid_single ssbd ibrs ibpb stibp fsgsbase tsc_adjust bmi1 avx2 smep bmi2 erms invpcid xsaveopt arat md_clear arch_capabilities\n",
            "bugs\t\t: cpu_meltdown spectre_v1 spectre_v2 spec_store_bypass l1tf mds swapgs\n",
            "bogomips\t: 4599.99\n",
            "clflush size\t: 64\n",
            "cache_alignment\t: 64\n",
            "address sizes\t: 46 bits physical, 48 bits virtual\n",
            "power management:\n",
            "\n"
          ],
          "name": "stdout"
        }
      ]
    },
    {
      "cell_type": "markdown",
      "metadata": {
        "id": "dMPmoa0lKCm2"
      },
      "source": [
        "## Dispersion"
      ]
    },
    {
      "cell_type": "code",
      "metadata": {
        "id": "00j2a4qLKwMX",
        "colab": {
          "base_uri": "https://localhost:8080/"
        },
        "outputId": "2900e4b5-3756-4b57-b2c1-7db2d95ba8a9"
      },
      "source": [
        "datasets.keys()"
      ],
      "execution_count": null,
      "outputs": [
        {
          "output_type": "execute_result",
          "data": {
            "text/plain": [
              "dict_keys(['CIFAR10', 'CIFAR100', 'SVHN', 'NIPS', 'News20', 'Goodwin', 'Mycielski', 'MNIST', 'Caltech101'])"
            ]
          },
          "metadata": {
            "tags": []
          },
          "execution_count": 19
        }
      ]
    },
    {
      "cell_type": "code",
      "metadata": {
        "id": "PocuDQ8oKJyo",
        "colab": {
          "base_uri": "https://localhost:8080/",
          "height": 1000
        },
        "outputId": "0670fcda-8c9a-4948-db06-5c88c3f5105e"
      },
      "source": [
        "#for k in ['NIPS','Word2Vec','News20']:\n",
        "for k in ['NIPS','News20']:\n",
        "  Xs = datasets[k]\n",
        "  plot_dispersion(Xs,label=k)\n",
        "plt.xlabel('$v$')\n",
        "plt.legend()\n",
        "plt.show()\n",
        "\n",
        "for k in ['CIFAR100','SVHN','MNIST']:\n",
        "  Xs = datasets[k]\n",
        "  plot_dispersion(Xs,label=k)\n",
        "plt.xlabel('$v$')\n",
        "plt.legend()\n",
        "plt.show()\n",
        "\n",
        "for k in ['Caltech101','Cars']:\n",
        "  Xs = datasets[k]\n",
        "  plot_dispersion(Xs,label=k)\n",
        "plt.xlabel('$v$')\n",
        "plt.legend()\n",
        "plt.show()"
      ],
      "execution_count": null,
      "outputs": [
        {
          "output_type": "stream",
          "text": [
            "/usr/local/lib/python3.7/dist-packages/ipykernel_launcher.py:6: RuntimeWarning: invalid value encountered in true_divide\n",
            "  \n",
            "/usr/local/lib/python3.7/dist-packages/seaborn/distributions.py:1657: FutureWarning: The `bw` parameter is deprecated in favor of `bw_method` and `bw_adjust`. Using 0.25 for `bw_method`, but please see the docs for the new parameters and update your code.\n",
            "  warnings.warn(msg, FutureWarning)\n",
            "/usr/local/lib/python3.7/dist-packages/ipykernel_launcher.py:6: RuntimeWarning: invalid value encountered in true_divide\n",
            "  \n",
            "/usr/local/lib/python3.7/dist-packages/seaborn/distributions.py:1657: FutureWarning: The `bw` parameter is deprecated in favor of `bw_method` and `bw_adjust`. Using 0.25 for `bw_method`, but please see the docs for the new parameters and update your code.\n",
            "  warnings.warn(msg, FutureWarning)\n"
          ],
          "name": "stderr"
        },
        {
          "output_type": "display_data",
          "data": {
            "image/png": "[encoded data removed]",
            "text/plain": [
              "<Figure size 432x288 with 1 Axes>"
            ]
          },
          "metadata": {
            "tags": []
          }
        },
        {
          "output_type": "stream",
          "text": [
            "/usr/local/lib/python3.7/dist-packages/ipykernel_launcher.py:6: RuntimeWarning: invalid value encountered in true_divide\n",
            "  \n",
            "/usr/local/lib/python3.7/dist-packages/seaborn/distributions.py:1657: FutureWarning: The `bw` parameter is deprecated in favor of `bw_method` and `bw_adjust`. Using 0.25 for `bw_method`, but please see the docs for the new parameters and update your code.\n",
            "  warnings.warn(msg, FutureWarning)\n",
            "/usr/local/lib/python3.7/dist-packages/ipykernel_launcher.py:6: RuntimeWarning: invalid value encountered in true_divide\n",
            "  \n",
            "/usr/local/lib/python3.7/dist-packages/seaborn/distributions.py:1657: FutureWarning: The `bw` parameter is deprecated in favor of `bw_method` and `bw_adjust`. Using 0.25 for `bw_method`, but please see the docs for the new parameters and update your code.\n",
            "  warnings.warn(msg, FutureWarning)\n",
            "/usr/local/lib/python3.7/dist-packages/seaborn/distributions.py:1657: FutureWarning: The `bw` parameter is deprecated in favor of `bw_method` and `bw_adjust`. Using 0.25 for `bw_method`, but please see the docs for the new parameters and update your code.\n",
            "  warnings.warn(msg, FutureWarning)\n"
          ],
          "name": "stderr"
        },
        {
          "output_type": "display_data",
          "data": {
            "image/png": "[encoded data removed]",
            "text/plain": [
              "<Figure size 432x288 with 1 Axes>"
            ]
          },
          "metadata": {
            "tags": []
          }
        },
        {
          "output_type": "stream",
          "text": [
            "/usr/local/lib/python3.7/dist-packages/ipykernel_launcher.py:6: RuntimeWarning: invalid value encountered in true_divide\n",
            "  \n",
            "/usr/local/lib/python3.7/dist-packages/seaborn/distributions.py:1657: FutureWarning: The `bw` parameter is deprecated in favor of `bw_method` and `bw_adjust`. Using 0.25 for `bw_method`, but please see the docs for the new parameters and update your code.\n",
            "  warnings.warn(msg, FutureWarning)\n"
          ],
          "name": "stderr"
        },
        {
          "output_type": "error",
          "ename": "KeyError",
          "evalue": "ignored",
          "traceback": [
            "\u001b[0;31m---------------------------------------------------------------------------\u001b[0m",
            "\u001b[0;31mKeyError\u001b[0m                                  Traceback (most recent call last)",
            "\u001b[0;32m<ipython-input-20-4030823d0679>\u001b[0m in \u001b[0;36m<module>\u001b[0;34m()\u001b[0m\n\u001b[1;32m     15\u001b[0m \u001b[0;34m\u001b[0m\u001b[0m\n\u001b[1;32m     16\u001b[0m \u001b[0;32mfor\u001b[0m \u001b[0mk\u001b[0m \u001b[0;32min\u001b[0m \u001b[0;34m[\u001b[0m\u001b[0;34m'Caltech101'\u001b[0m\u001b[0;34m,\u001b[0m\u001b[0;34m'Cars'\u001b[0m\u001b[0;34m]\u001b[0m\u001b[0;34m:\u001b[0m\u001b[0;34m\u001b[0m\u001b[0;34m\u001b[0m\u001b[0m\n\u001b[0;32m---> 17\u001b[0;31m   \u001b[0mXs\u001b[0m \u001b[0;34m=\u001b[0m \u001b[0mdatasets\u001b[0m\u001b[0;34m[\u001b[0m\u001b[0mk\u001b[0m\u001b[0;34m]\u001b[0m\u001b[0;34m\u001b[0m\u001b[0;34m\u001b[0m\u001b[0m\n\u001b[0m\u001b[1;32m     18\u001b[0m   \u001b[0mplot_dispersion\u001b[0m\u001b[0;34m(\u001b[0m\u001b[0mXs\u001b[0m\u001b[0;34m,\u001b[0m\u001b[0mlabel\u001b[0m\u001b[0;34m=\u001b[0m\u001b[0mk\u001b[0m\u001b[0;34m)\u001b[0m\u001b[0;34m\u001b[0m\u001b[0;34m\u001b[0m\u001b[0m\n\u001b[1;32m     19\u001b[0m \u001b[0mplt\u001b[0m\u001b[0;34m.\u001b[0m\u001b[0mxlabel\u001b[0m\u001b[0;34m(\u001b[0m\u001b[0;34m'$v$'\u001b[0m\u001b[0;34m)\u001b[0m\u001b[0;34m\u001b[0m\u001b[0;34m\u001b[0m\u001b[0m\n",
            "\u001b[0;31mKeyError\u001b[0m: 'Cars'"
          ]
        },
        {
          "output_type": "display_data",
          "data": {
            "image/png": "[encoded data removed]",
            "text/plain": [
              "<Figure size 432x288 with 1 Axes>"
            ]
          },
          "metadata": {
            "tags": []
          }
        }
      ]
    },
    {
      "cell_type": "code",
      "metadata": {
        "id": "NVBGANnLPxxL"
      },
      "source": [
        "for k in ['Mycielski','Goodwin']:\n",
        "  Xs = datasets[k]\n",
        "  plot_dispersion(Xs,label=k)\n",
        "plt.xlabel('$v$')\n",
        "plt.legend()\n",
        "plt.show()"
      ],
      "execution_count": null,
      "outputs": []
    },
    {
      "cell_type": "markdown",
      "metadata": {
        "id": "398fgR9Cuicp"
      },
      "source": [
        "## Error Conbitubtions: Synthetic"
      ]
    },
    {
      "cell_type": "code",
      "metadata": {
        "id": "W_LRAl0iuszA"
      },
      "source": [
        "## install latex support in colab\n",
        "!apt install texlive-fonts-recommended texlive-fonts-extra cm-super dvipng\n",
        "\n",
        "from matplotlib import rc\n",
        "import matplotlib.pyplot as plt\n",
        "rc('text', usetex=True)"
      ],
      "execution_count": null,
      "outputs": []
    },
    {
      "cell_type": "code",
      "metadata": {
        "id": "6XMJReNjuz2A"
      },
      "source": [
        "## comparison synthetic\n",
        "\n",
        "p_grid = np.linspace(0.001,0.1,7)\n",
        "v_grid = np.linspace(0.01,0.2,7)\n",
        "\n",
        "p = 0.001\n",
        "n = 10000\n",
        "d_range = range(2,30+1,2)\n",
        "\n",
        "for v in v_grid:\n",
        "  outs = []\n",
        "  for d in d_range:\n",
        "    out = []\n",
        "    for T in [T_new,T_old]:\n",
        "      out.append( T(n=n,p=p,d=int(d),v=v) )\n",
        "    outs.append(out[0]/out[1])\n",
        "\n",
        "  plt.plot(d_range,outs,label='v=%0.3f'%v)\n",
        "plt.legend(bbox_to_anchor=(1.05, 1))\n",
        "plt.ylabel('$T_{new}/T_{old}$',fontsize=20)\n",
        "plt.xlabel('$d$',fontsize=20)\n",
        "plt.show()\n",
        "\n",
        "v = 0.01\n",
        "\n",
        "for p in p_grid:\n",
        "  outs = []\n",
        "  for d in d_range:\n",
        "    out = []\n",
        "    for T in [T_new,T_old]:\n",
        "      out.append( T(n=n,p=p,d=int(d),v=v) )\n",
        "    outs.append(out[0]/out[1])\n",
        "\n",
        "  plt.plot(d_range,outs,label='p=%0.3f'%p)\n",
        "plt.legend(bbox_to_anchor=(1.05, 1))\n",
        "plt.ylabel('$T_{new}/T_{old}$',fontsize=20)\n",
        "plt.xlabel('$d$',fontsize=20)\n",
        "plt.show()\n"
      ],
      "execution_count": null,
      "outputs": []
    },
    {
      "cell_type": "markdown",
      "metadata": {
        "id": "MKrFTgRvzfaL"
      },
      "source": [
        "## Confidence"
      ]
    },
    {
      "cell_type": "code",
      "metadata": {
        "id": "t-ETh_ePze0F"
      },
      "source": [
        "### final confidence comparison\n",
        "\n",
        "import seaborn as sn\n",
        "from scipy.ndimage import gaussian_filter1d\n",
        "\n",
        "sn.set_style('darkgrid')\n",
        "sn.set_context(\"notebook\",font_scale=1.2)\n",
        "\n",
        "## setup\n",
        "\n",
        "p = 0.01\n",
        "\n",
        "NUM_COLORS = 6\n",
        "cm = plt.get_cmap('gist_rainbow')\n",
        "fig,ax = plt.subplots()\n",
        "ax.set_prop_cycle('color', [cm(1.*i/NUM_COLORS) for i in range(NUM_COLORS)])\n",
        "\n",
        "## setup: take from real-world datasets\n",
        "\n",
        "ds = {\n",
        "'NIPS': {'n':13000,'v':0.3},\n",
        "'News20': {'n':34000,'v':0.27},\n",
        "'SVHN': {'n':1024,'v':0.005},\n",
        "'Cars': {'n':25000,'v':0.003},\n",
        "'Caltech': {'n':25000,'v':0.0025},\n",
        "'Mycielski': {'n':98303,'v':0.001}\n",
        "}\n",
        "\n",
        "for label,param in ds.items():\n",
        "  n = param['n']\n",
        "  m = int(0.1 * n)\n",
        "  p = 0.01\n",
        "  v = param['v']\n",
        "  plot_confidence(n,m,p,v,T_new,label=label+' (our)',ax=ax,linestyle='solid')\n",
        "\n",
        "for label,param in ds.items():\n",
        "  n = param['n']\n",
        "  m = int(0.1 * n)\n",
        "  p = 0.01\n",
        "  v = param['v']\n",
        "  plot_confidence(n,m,p,v,T_old,label=label+' (previous)',ax=ax,linestyle='dotted')\n",
        "\n",
        "plt.xlabel('$\\epsilon$',fontsize=15)\n",
        "plt.ylabel('$1-\\delta$',fontsize=15)\n",
        "plt.legend(bbox_to_anchor=(1.02, 1))\n",
        "plt.show()"
      ],
      "execution_count": null,
      "outputs": []
    },
    {
      "cell_type": "markdown",
      "metadata": {
        "id": "0AI-d_D6ZykV"
      },
      "source": [
        "## Sparsity"
      ]
    },
    {
      "cell_type": "code",
      "metadata": {
        "id": "CCTniqjnZz34"
      },
      "source": [
        "### comparison of sparsity\n",
        "\n",
        "from scipy.ndimage import gaussian_filter1d\n",
        "import seaborn as sn\n",
        "\n",
        "def best_s(n,m,eps,v,T=T_new):\n",
        "\n",
        "  func = lambda s: get_confidence(n,m,s/m,eps,v,T)-0.25\n",
        "  if func(1) < 0:\n",
        "    return 1\n",
        "  elif func(m) > 0:\n",
        "    return m\n",
        "  else:\n",
        "    result = optimize.bisect(func,1,m)\n",
        "    return result\n",
        "\n",
        "## setup - based on real-world data\n",
        "\n",
        "ds = {'Caltech101':{'n':25000,'m':500,'v':0.0035},\n",
        "      'Cars':{'n':15000,'m':500,'v':0.0045},\n",
        "      'News20':{'n':3400,'m':500,'v':0.2},\n",
        "      'Goodwin':{'n':1800,'v':0.6},\n",
        "      'SVHN':{'n':1024,'m':500,'v':0.01}\n",
        "      }\n",
        "eps_grid = np.linspace(0.0001,1,100)\n",
        "\n",
        "NUM_COLORS = 5\n",
        "cm = plt.get_cmap('gist_rainbow')\n",
        "fig,ax = plt.subplots()\n",
        "ax.set_prop_cycle('color', [cm(1.*i/NUM_COLORS) for i in range(NUM_COLORS)])\n",
        "\n",
        "for (method,T,style) in zip( [' (our)',' (previous)'], [T_new,T_old], ['solid','dotted'] ):\n",
        "  for (lab,param) in ds.items():\n",
        "\n",
        "    n = param['n']\n",
        "    v = param['v']\n",
        "    m = 0.2*n\n",
        "\n",
        "    outs = []\n",
        "    for eps in eps_grid:\n",
        "      out =  best_s(n,m,eps,v,T)\n",
        "      outs.append(out)\n",
        "    outs = gaussian_filter1d(outs,0.1)\n",
        "    sn.lineplot(eps_grid,outs,label=lab+method,ax=ax,linestyle=style)\n",
        "\n",
        "\n",
        "plt.xlabel('$\\epsilon$',fontsize=15)\n",
        "plt.ylabel('$s$',fontsize=15)\n",
        "plt.yscale('log')\n",
        "plt.legend(bbox_to_anchor=(1.05, 1), loc='upper left')\n",
        "\n",
        "#get_confidence(10000,500,0.3,0.1,0.01)"
      ],
      "execution_count": null,
      "outputs": []
    },
    {
      "cell_type": "markdown",
      "metadata": {
        "id": "t-MEwYZsXjD2"
      },
      "source": [
        "## Dimension"
      ]
    },
    {
      "cell_type": "code",
      "metadata": {
        "id": "KMpT6jMxJgQP"
      },
      "source": [
        "### comparison of dimension\n",
        "\n",
        "from scipy import optimize\n",
        "\n",
        "def best_dim(n,p,eps,v,T=T_new):\n",
        "\n",
        "  func = lambda m: get_confidence(n,m,p,eps,v,T)-0.5\n",
        "  try:\n",
        "    result = optimize.bisect(func,2,100000)\n",
        "  except:\n",
        "    result = -1\n",
        "  finally:\n",
        "    return result\n",
        "\n",
        "## setup - based on real-world data\n",
        "\n",
        "\n",
        "ds = {'Caltech101':{'n':25000,'m':500,'v':0.0025},\n",
        "      'Cars':{'n':15000,'m':500,'v':0.003},\n",
        "      'News20':{'n':3400,'m':500,'v':0.25},\n",
        "      'SVHN':{'n':1024,'m':500,'v':0.005}\n",
        "      }\n",
        "\n",
        "eps_grid = np.linspace(0.1,1,10)\n",
        "p = 0.1\n",
        "\n",
        "## colors\n",
        "NUM_COLORS = 4\n",
        "cm = plt.get_cmap('gist_rainbow')\n",
        "fig,ax = plt.subplots()\n",
        "ax.set_prop_cycle('color', [cm(1.*i/NUM_COLORS) for i in range(NUM_COLORS)])\n",
        "\n",
        "## evaluation\n",
        "\n",
        "for (method,T,style) in zip( [' (our)',' (previous)'], [T_new,T_old], ['solid','dotted'] ):\n",
        "  for (lab,param) in ds.items():\n",
        "\n",
        "    n = param['n']\n",
        "    v = param['v']\n",
        "\n",
        "    outs = []\n",
        "    for eps in eps_grid:\n",
        "      outs.append(best_dim(n,p,eps,v,T))\n",
        "    outs = gaussian_filter1d(outs,2)\n",
        "\n",
        "    sn.lineplot(eps_grid,outs,label=lab+method,ax=ax,linestyle=style)\n",
        "\n",
        "plt.xlabel('$\\epsilon$',fontsize=15)\n",
        "plt.ylabel('$m$',fontsize=15)\n",
        "plt.yscale('log')"
      ],
      "execution_count": null,
      "outputs": []
    }
  ]
}